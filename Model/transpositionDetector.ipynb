{
 "cells": [
  {
   "cell_type": "code",
   "execution_count": 2,
   "metadata": {},
   "outputs": [],
   "source": [
    "import tensorflow as tf\n",
    "import numpy as np\n",
    "import pandas as pd\n",
    "from faker import Faker\n",
    "import os\n",
    "import matplotlib.pyplot as plt\n",
    "\n",
    "from tensorflow.keras import layers\n",
    "from tensorflow import keras\n",
    "from tensorflow import losses"
   ]
  },
  {
   "cell_type": "code",
   "execution_count": 3,
   "metadata": {},
   "outputs": [],
   "source": [
    "# Creating folders to save generated data\n",
    "path = os.getcwd()\n",
    "# os.mkdir(path+\"/validation_data\")\n",
    "# os.mkdir(path+\"/validation_data/positive\")\n",
    "# os.mkdir(path+\"/validation_data/negative\")"
   ]
  },
  {
   "cell_type": "code",
   "execution_count": 3,
   "metadata": {},
   "outputs": [],
   "source": [
    "# Set a set to get deterministic results\n",
    "fake = Faker()\n",
    "Faker.seed(4321)"
   ]
  },
  {
   "cell_type": "code",
   "execution_count": 4,
   "metadata": {},
   "outputs": [],
   "source": [
    "# Functions to generate dummy data\n",
    "def create_transposed_data(n: int, path: str):\n",
    "    with open(path, \"w+\") as f:\n",
    "        for i in range(n):\n",
    "            name = fake.first_name()\n",
    "            last_name = fake.last_name()\n",
    "            f.write(f\"{name}|{last_name}|{last_name}|{name}\\n\")\n",
    "\n",
    "def create_non_transposed_data(n: int, path: str):\n",
    "    with open(path, \"w+\") as f:\n",
    "        for i in range(n):\n",
    "            name = fake.first_name()\n",
    "            last_name = fake.last_name()\n",
    "            second_name = fake.first_name()\n",
    "            second_last_name = fake.last_name()\n",
    "            f.write(f\"{name}|{last_name}|{second_name}|{second_last_name}\\n\")"
   ]
  },
  {
   "cell_type": "code",
   "execution_count": 16,
   "metadata": {},
   "outputs": [],
   "source": [
    "# creating training data\n",
    "create_transposed_data(60000, path+\"/text_data/positive.txt\")\n",
    "create_non_transposed_data(60000, path+\"/text_data/negative.txt\")"
   ]
  },
  {
   "cell_type": "code",
   "execution_count": 8,
   "metadata": {},
   "outputs": [],
   "source": [
    "# creating validation data\n",
    "Faker.seed(1234)\n",
    "create_transposed_data(10000, path+\"/validation_data/positive.txt\")\n",
    "create_non_transposed_data(10000, path+\"/validation_data/negative.txt\")"
   ]
  },
  {
   "cell_type": "markdown",
   "metadata": {},
   "source": [
    "### Loading Data"
   ]
  },
  {
   "cell_type": "code",
   "execution_count": 4,
   "metadata": {},
   "outputs": [],
   "source": [
    "positive = pd.read_csv(path+\"/text_data/positive.txt\", sep=\"|\", dtype=\"str\", header=None)\n",
    "negative = pd.read_csv(path+\"/text_data/negative.txt\", sep=\"|\", dtype=\"str\", header=None)"
   ]
  },
  {
   "cell_type": "code",
   "execution_count": 5,
   "metadata": {},
   "outputs": [
    {
     "data": {
      "text/html": [
       "<div>\n",
       "<style scoped>\n",
       "    .dataframe tbody tr th:only-of-type {\n",
       "        vertical-align: middle;\n",
       "    }\n",
       "\n",
       "    .dataframe tbody tr th {\n",
       "        vertical-align: top;\n",
       "    }\n",
       "\n",
       "    .dataframe thead th {\n",
       "        text-align: right;\n",
       "    }\n",
       "</style>\n",
       "<table border=\"1\" class=\"dataframe\">\n",
       "  <thead>\n",
       "    <tr style=\"text-align: right;\">\n",
       "      <th></th>\n",
       "      <th>0</th>\n",
       "      <th>1</th>\n",
       "      <th>2</th>\n",
       "      <th>3</th>\n",
       "    </tr>\n",
       "  </thead>\n",
       "  <tbody>\n",
       "    <tr>\n",
       "      <th>0</th>\n",
       "      <td>Andrea</td>\n",
       "      <td>Hernandez</td>\n",
       "      <td>Hernandez</td>\n",
       "      <td>Andrea</td>\n",
       "    </tr>\n",
       "    <tr>\n",
       "      <th>1</th>\n",
       "      <td>Linda</td>\n",
       "      <td>Williams</td>\n",
       "      <td>Williams</td>\n",
       "      <td>Linda</td>\n",
       "    </tr>\n",
       "    <tr>\n",
       "      <th>2</th>\n",
       "      <td>Amy</td>\n",
       "      <td>Chapman</td>\n",
       "      <td>Chapman</td>\n",
       "      <td>Amy</td>\n",
       "    </tr>\n",
       "    <tr>\n",
       "      <th>3</th>\n",
       "      <td>Brenda</td>\n",
       "      <td>Mcmahon</td>\n",
       "      <td>Mcmahon</td>\n",
       "      <td>Brenda</td>\n",
       "    </tr>\n",
       "    <tr>\n",
       "      <th>4</th>\n",
       "      <td>Shane</td>\n",
       "      <td>Rowe</td>\n",
       "      <td>Rowe</td>\n",
       "      <td>Shane</td>\n",
       "    </tr>\n",
       "  </tbody>\n",
       "</table>\n",
       "</div>"
      ],
      "text/plain": [
       "        0          1          2       3\n",
       "0  Andrea  Hernandez  Hernandez  Andrea\n",
       "1   Linda   Williams   Williams   Linda\n",
       "2     Amy    Chapman    Chapman     Amy\n",
       "3  Brenda    Mcmahon    Mcmahon  Brenda\n",
       "4   Shane       Rowe       Rowe   Shane"
      ]
     },
     "metadata": {},
     "output_type": "display_data"
    },
    {
     "data": {
      "text/html": [
       "<div>\n",
       "<style scoped>\n",
       "    .dataframe tbody tr th:only-of-type {\n",
       "        vertical-align: middle;\n",
       "    }\n",
       "\n",
       "    .dataframe tbody tr th {\n",
       "        vertical-align: top;\n",
       "    }\n",
       "\n",
       "    .dataframe thead th {\n",
       "        text-align: right;\n",
       "    }\n",
       "</style>\n",
       "<table border=\"1\" class=\"dataframe\">\n",
       "  <thead>\n",
       "    <tr style=\"text-align: right;\">\n",
       "      <th></th>\n",
       "      <th>0</th>\n",
       "      <th>1</th>\n",
       "      <th>2</th>\n",
       "      <th>3</th>\n",
       "    </tr>\n",
       "  </thead>\n",
       "  <tbody>\n",
       "    <tr>\n",
       "      <th>0</th>\n",
       "      <td>Kayla</td>\n",
       "      <td>Clay</td>\n",
       "      <td>Alejandra</td>\n",
       "      <td>Irwin</td>\n",
       "    </tr>\n",
       "    <tr>\n",
       "      <th>1</th>\n",
       "      <td>Carlos</td>\n",
       "      <td>Caldwell</td>\n",
       "      <td>Neil</td>\n",
       "      <td>Thomas</td>\n",
       "    </tr>\n",
       "    <tr>\n",
       "      <th>2</th>\n",
       "      <td>Brian</td>\n",
       "      <td>Clark</td>\n",
       "      <td>Stephanie</td>\n",
       "      <td>Mason</td>\n",
       "    </tr>\n",
       "    <tr>\n",
       "      <th>3</th>\n",
       "      <td>Michelle</td>\n",
       "      <td>Gray</td>\n",
       "      <td>Tanya</td>\n",
       "      <td>Lopez</td>\n",
       "    </tr>\n",
       "    <tr>\n",
       "      <th>4</th>\n",
       "      <td>Mary</td>\n",
       "      <td>Hicks</td>\n",
       "      <td>Michael</td>\n",
       "      <td>Wilson</td>\n",
       "    </tr>\n",
       "  </tbody>\n",
       "</table>\n",
       "</div>"
      ],
      "text/plain": [
       "          0         1          2       3\n",
       "0     Kayla      Clay  Alejandra   Irwin\n",
       "1    Carlos  Caldwell       Neil  Thomas\n",
       "2     Brian     Clark  Stephanie   Mason\n",
       "3  Michelle      Gray      Tanya   Lopez\n",
       "4      Mary     Hicks    Michael  Wilson"
      ]
     },
     "metadata": {},
     "output_type": "display_data"
    }
   ],
   "source": [
    "display(positive.head())\n",
    "display(negative.head())\n"
   ]
  },
  {
   "cell_type": "code",
   "execution_count": 6,
   "metadata": {},
   "outputs": [
    {
     "data": {
      "text/html": [
       "<div>\n",
       "<style scoped>\n",
       "    .dataframe tbody tr th:only-of-type {\n",
       "        vertical-align: middle;\n",
       "    }\n",
       "\n",
       "    .dataframe tbody tr th {\n",
       "        vertical-align: top;\n",
       "    }\n",
       "\n",
       "    .dataframe thead th {\n",
       "        text-align: right;\n",
       "    }\n",
       "</style>\n",
       "<table border=\"1\" class=\"dataframe\">\n",
       "  <thead>\n",
       "    <tr style=\"text-align: right;\">\n",
       "      <th></th>\n",
       "      <th>0</th>\n",
       "      <th>1</th>\n",
       "      <th>2</th>\n",
       "      <th>3</th>\n",
       "    </tr>\n",
       "  </thead>\n",
       "  <tbody>\n",
       "    <tr>\n",
       "      <th>119995</th>\n",
       "      <td>Jonathan</td>\n",
       "      <td>Randall</td>\n",
       "      <td>Erin</td>\n",
       "      <td>Smith</td>\n",
       "    </tr>\n",
       "    <tr>\n",
       "      <th>119996</th>\n",
       "      <td>Ronald</td>\n",
       "      <td>Walker</td>\n",
       "      <td>Joel</td>\n",
       "      <td>Fields</td>\n",
       "    </tr>\n",
       "    <tr>\n",
       "      <th>119997</th>\n",
       "      <td>Carla</td>\n",
       "      <td>Williams</td>\n",
       "      <td>Darlene</td>\n",
       "      <td>Russell</td>\n",
       "    </tr>\n",
       "    <tr>\n",
       "      <th>119998</th>\n",
       "      <td>Elizabeth</td>\n",
       "      <td>King</td>\n",
       "      <td>Nicole</td>\n",
       "      <td>Clarke</td>\n",
       "    </tr>\n",
       "    <tr>\n",
       "      <th>119999</th>\n",
       "      <td>Emily</td>\n",
       "      <td>Herman</td>\n",
       "      <td>Robert</td>\n",
       "      <td>Crane</td>\n",
       "    </tr>\n",
       "  </tbody>\n",
       "</table>\n",
       "</div>"
      ],
      "text/plain": [
       "                0         1        2        3\n",
       "119995   Jonathan   Randall     Erin    Smith\n",
       "119996     Ronald    Walker     Joel   Fields\n",
       "119997      Carla  Williams  Darlene  Russell\n",
       "119998  Elizabeth      King   Nicole   Clarke\n",
       "119999      Emily    Herman   Robert    Crane"
      ]
     },
     "metadata": {},
     "output_type": "display_data"
    },
    {
     "data": {
      "text/plain": [
       "(120000, 4)"
      ]
     },
     "metadata": {},
     "output_type": "display_data"
    }
   ],
   "source": [
    "all_data = pd.concat([positive,negative]).reset_index(drop=True)\n",
    "display(all_data.tail())\n",
    "display(all_data.shape)"
   ]
  },
  {
   "cell_type": "code",
   "execution_count": 7,
   "metadata": {},
   "outputs": [],
   "source": [
    "# Generate labels\n",
    "labels = np.concatenate([np.ones(60000),np.zeros(60000)])"
   ]
  },
  {
   "cell_type": "markdown",
   "metadata": {},
   "source": [
    "## Building the net"
   ]
  },
  {
   "cell_type": "markdown",
   "metadata": {},
   "source": [
    "### Creating preprocessing layer"
   ]
  },
  {
   "cell_type": "code",
   "execution_count": 8,
   "metadata": {},
   "outputs": [],
   "source": [
    "max_features = 100000\n",
    "sequence_length = 16\n",
    "\n",
    "vectorize_layer = layers.TextVectorization(\n",
    "    standardize='lower_and_strip_punctuation',\n",
    "    max_tokens=max_features,\n",
    "    ngrams=1,\n",
    "    output_mode='int',\n",
    "    output_sequence_length=sequence_length)"
   ]
  },
  {
   "cell_type": "code",
   "execution_count": 9,
   "metadata": {},
   "outputs": [
    {
     "name": "stderr",
     "output_type": "stream",
     "text": [
      "2023-10-15 12:42:55.890350: I tensorflow/core/common_runtime/executor.cc:1210] [/device:CPU:0] (DEBUG INFO) Executor start aborting (this does not indicate an error and you can ignore this message): INVALID_ARGUMENT: You must feed a value for placeholder tensor 'Placeholder/_0' with dtype string and shape [480000]\n",
      "\t [[{{node Placeholder/_0}}]]\n"
     ]
    }
   ],
   "source": [
    "text_dataset = tf.data.Dataset.from_tensor_slices(np.concatenate([all_data[i].to_numpy() for i in range(4)]))\n",
    "vectorize_layer.adapt(text_dataset.batch(64))"
   ]
  },
  {
   "cell_type": "markdown",
   "metadata": {},
   "source": [
    "### Building the body"
   ]
  },
  {
   "cell_type": "code",
   "execution_count": 10,
   "metadata": {},
   "outputs": [
    {
     "data": {
      "text/plain": [
       "{'name_1': <KerasTensor: shape=(None, 1) dtype=string (created by layer 'name_1')>,\n",
       " 'name_2': <KerasTensor: shape=(None, 1) dtype=string (created by layer 'name_2')>,\n",
       " 'name_3': <KerasTensor: shape=(None, 1) dtype=string (created by layer 'name_3')>,\n",
       " 'name_4': <KerasTensor: shape=(None, 1) dtype=string (created by layer 'name_4')>}"
      ]
     },
     "execution_count": 10,
     "metadata": {},
     "output_type": "execute_result"
    }
   ],
   "source": [
    "# Creating symbolic tensors\n",
    "inputs = { f\"name_{i}\": tf.keras.Input(shape=(1,), name=f\"name_{i}\", dtype=tf.string) for i in range(1,5)}\n",
    "inputs"
   ]
  },
  {
   "cell_type": "code",
   "execution_count": 11,
   "metadata": {},
   "outputs": [],
   "source": [
    "# embedding\n",
    "embedding_dim = 16\n",
    "embdd = layers.Embedding(max_features + 1, embedding_dim)"
   ]
  },
  {
   "cell_type": "code",
   "execution_count": 12,
   "metadata": {},
   "outputs": [],
   "source": [
    "preprocessed_inputs = []\n",
    "for name, input in inputs.items():\n",
    "  x = vectorize_layer(input)\n",
    "  x = embdd(x)\n",
    "  x = layers.LSTM(12,input_dim=embedding_dim)(x)\n",
    "  preprocessed_inputs.append(x)"
   ]
  },
  {
   "cell_type": "code",
   "execution_count": 13,
   "metadata": {},
   "outputs": [
    {
     "name": "stdout",
     "output_type": "stream",
     "text": [
      "Model: \"model\"\n",
      "__________________________________________________________________________________________________\n",
      " Layer (type)                Output Shape                 Param #   Connected to                  \n",
      "==================================================================================================\n",
      " name_1 (InputLayer)         [(None, 1)]                  0         []                            \n",
      "                                                                                                  \n",
      " name_2 (InputLayer)         [(None, 1)]                  0         []                            \n",
      "                                                                                                  \n",
      " name_3 (InputLayer)         [(None, 1)]                  0         []                            \n",
      "                                                                                                  \n",
      " name_4 (InputLayer)         [(None, 1)]                  0         []                            \n",
      "                                                                                                  \n",
      " text_vectorization (TextVe  (None, 16)                   0         ['name_1[0][0]',              \n",
      " ctorization)                                                        'name_2[0][0]',              \n",
      "                                                                     'name_3[0][0]',              \n",
      "                                                                     'name_4[0][0]']              \n",
      "                                                                                                  \n",
      " embedding (Embedding)       (None, 16, 16)               1600016   ['text_vectorization[0][0]',  \n",
      "                                                                     'text_vectorization[1][0]',  \n",
      "                                                                     'text_vectorization[2][0]',  \n",
      "                                                                     'text_vectorization[3][0]']  \n",
      "                                                                                                  \n",
      " lstm (LSTM)                 (None, 12)                   1392      ['embedding[0][0]']           \n",
      "                                                                                                  \n",
      " lstm_1 (LSTM)               (None, 12)                   1392      ['embedding[1][0]']           \n",
      "                                                                                                  \n",
      " lstm_2 (LSTM)               (None, 12)                   1392      ['embedding[2][0]']           \n",
      "                                                                                                  \n",
      " lstm_3 (LSTM)               (None, 12)                   1392      ['embedding[3][0]']           \n",
      "                                                                                                  \n",
      " concatenate (Concatenate)   (None, 48)                   0         ['lstm[0][0]',                \n",
      "                                                                     'lstm_1[0][0]',              \n",
      "                                                                     'lstm_2[0][0]',              \n",
      "                                                                     'lstm_3[0][0]']              \n",
      "                                                                                                  \n",
      "==================================================================================================\n",
      "Total params: 1605584 (6.12 MB)\n",
      "Trainable params: 1605584 (6.12 MB)\n",
      "Non-trainable params: 0 (0.00 Byte)\n",
      "__________________________________________________________________________________________________\n"
     ]
    },
    {
     "data": {
      "image/png": "[encoded data removed]",
      "text/plain": [
       "<IPython.core.display.Image object>"
      ]
     },
     "execution_count": 13,
     "metadata": {},
     "output_type": "execute_result"
    }
   ],
   "source": [
    "preprocessed_inputs_cat = layers.Concatenate()(preprocessed_inputs)\n",
    "\n",
    "model_preprocessing = tf.keras.Model(inputs, preprocessed_inputs_cat)\n",
    "\n",
    "model_preprocessing.summary()\n",
    "\n",
    "tf.keras.utils.plot_model(model = model_preprocessing , rankdir=\"LR\", dpi=72, show_shapes=True)"
   ]
  },
  {
   "cell_type": "code",
   "execution_count": 14,
   "metadata": {},
   "outputs": [],
   "source": [
    "names_dict = {f\"name_{i+1}\": np.array(value) \n",
    "                         for i, value in all_data.items()}\n",
    "training_features = {name: np.array(value) for name, value in names_dict.items()}\n"
   ]
  },
  {
   "cell_type": "code",
   "execution_count": 15,
   "metadata": {},
   "outputs": [],
   "source": [
    "preprocessed_inputs = model_preprocessing(inputs)\n",
    "\n",
    "deep_layers = tf.keras.Sequential([\n",
    "    layers.Dense(1),\n",
    "    layers.Activation('sigmoid')\n",
    "  ])\n",
    "\n",
    "result = deep_layers(preprocessed_inputs)\n",
    "\n",
    "model = tf.keras.Model(inputs, result)\n",
    "\n",
    "model.compile(loss=losses.BinaryCrossentropy(from_logits=False),\n",
    "              optimizer=tf.keras.optimizers.legacy.Adam(),\n",
    "              metrics=['accuracy'])"
   ]
  },
  {
   "cell_type": "code",
   "execution_count": 16,
   "metadata": {},
   "outputs": [
    {
     "name": "stdout",
     "output_type": "stream",
     "text": [
      "Epoch 1/3\n",
      "3563/3563 [==============================] - 26s 7ms/step - loss: 0.0506 - accuracy: 0.9745 - val_loss: 0.0087 - val_accuracy: 0.9967\n",
      "Epoch 2/3\n",
      "3563/3563 [==============================] - 23s 7ms/step - loss: 0.0033 - accuracy: 0.9992 - val_loss: 0.0040 - val_accuracy: 0.9987\n",
      "Epoch 3/3\n",
      "3563/3563 [==============================] - 24s 7ms/step - loss: 0.0018 - accuracy: 0.9995 - val_loss: 0.0031 - val_accuracy: 0.9987\n"
     ]
    },
    {
     "data": {
      "text/plain": [
       "<keras.src.callbacks.History at 0x167c707c0>"
      ]
     },
     "execution_count": 16,
     "metadata": {},
     "output_type": "execute_result"
    }
   ],
   "source": [
    "model.fit(x=training_features, y=labels, epochs=3, validation_split=0.05)"
   ]
  },
  {
   "cell_type": "code",
   "execution_count": 17,
   "metadata": {},
   "outputs": [],
   "source": [
    "history = model.history"
   ]
  },
  {
   "cell_type": "code",
   "execution_count": 18,
   "metadata": {},
   "outputs": [
    {
     "data": {
      "text/plain": [
       "dict_keys(['loss', 'accuracy', 'val_loss', 'val_accuracy'])"
      ]
     },
     "execution_count": 18,
     "metadata": {},
     "output_type": "execute_result"
    }
   ],
   "source": [
    "history_dict = history.history\n",
    "history_dict.keys()"
   ]
  },
  {
   "cell_type": "code",
   "execution_count": 19,
   "metadata": {},
   "outputs": [
    {
     "data": {
      "text/plain": [
       "<matplotlib.legend.Legend at 0x1722fbe80>"
      ]
     },
     "execution_count": 19,
     "metadata": {},
     "output_type": "execute_result"
    },
    {
     "data": {
      "image/png": "[encoded data removed]",
      "text/plain": [
       "<Figure size 1200x500 with 2 Axes>"
      ]
     },
     "metadata": {},
     "output_type": "display_data"
    }
   ],
   "source": [
    "acc = history_dict['accuracy']\n",
    "val_acc = history_dict['val_accuracy']\n",
    "loss = history_dict['loss']\n",
    "val_loss = history_dict['val_loss']\n",
    "\n",
    "epochs = range(1, len(acc) + 1)\n",
    "\n",
    "fig, ax = plt.subplots(1,2,figsize=(12,5))\n",
    "\n",
    "ax[0].plot(epochs, loss, 'bo', label='Training loss')\n",
    "ax[0].plot(epochs, val_loss, 'ro', label='Validation loss')\n",
    "ax[0].set_title('Training and validation loss')\n",
    "ax[0].set_xlabel('Epochs')\n",
    "ax[0].set_ylabel('Loss')\n",
    "ax[0].legend()\n",
    "\n",
    "ax[1].plot(epochs, acc, 'bo', label='Training acc')\n",
    "ax[1].plot(epochs, val_acc, 'ro', label='Validation acc')\n",
    "ax[1].set_title('Training and validation accuracy')\n",
    "ax[1].set_xlabel('Epochs')\n",
    "ax[1].set_ylabel('Accuracy')\n",
    "ax[1].legend(loc='lower right')\n",
    "\n",
    "#"
   ]
  },
  {
   "cell_type": "markdown",
   "metadata": {},
   "source": [
    "## Evaluating the model"
   ]
  },
  {
   "cell_type": "code",
   "execution_count": 20,
   "metadata": {},
   "outputs": [],
   "source": [
    "# Put test names below\n",
    "dataset_1 = tf.data.Dataset.from_tensor_slices([ \"Rene\", \"Rene\",])\n",
    "dataset_2 = tf.data.Dataset.from_tensor_slices([\"Velazquez\", \"Velazquez\",])\n",
    "dataset_3 = tf.data.Dataset.from_tensor_slices([\"Velazquez\", \"John\",])\n",
    "dataset_4 = tf.data.Dataset.from_tensor_slices([\"Rene\", \"Doe\",])\n",
    "labels = tf.data.Dataset.from_tensor_slices([1])\n",
    "zipped_input = tf.data.Dataset.zip(((dataset_1, dataset_2, dataset_3, dataset_4), )).batch(1)"
   ]
  },
  {
   "cell_type": "code",
   "execution_count": 21,
   "metadata": {},
   "outputs": [
    {
     "name": "stderr",
     "output_type": "stream",
     "text": [
      "2023-10-15 12:45:44.096507: I tensorflow/core/common_runtime/executor.cc:1210] [/device:CPU:0] (DEBUG INFO) Executor start aborting (this does not indicate an error and you can ignore this message): INVALID_ARGUMENT: You must feed a value for placeholder tensor 'Placeholder/_6' with dtype string and shape [2]\n",
      "\t [[{{node Placeholder/_6}}]]\n"
     ]
    },
    {
     "name": "stdout",
     "output_type": "stream",
     "text": [
      "2/2 [==============================] - 1s 3ms/step\n"
     ]
    }
   ],
   "source": [
    "a = model.predict(zipped_input)"
   ]
  },
  {
   "cell_type": "code",
   "execution_count": 22,
   "metadata": {},
   "outputs": [
    {
     "name": "stdout",
     "output_type": "stream",
     "text": [
      "[b'Rene', b'Velazquez', b'Velazquez', b'Rene']\n",
      "[0.9994758]\n",
      "**********\n",
      "[b'Rene', b'Velazquez', b'John', b'Doe']\n",
      "[1.33242675e-05]\n",
      "**********\n"
     ]
    }
   ],
   "source": [
    "for i, tensor in enumerate(zipped_input.as_numpy_iterator()):\n",
    "    print([val[0] for val in tensor[0]])\n",
    "    print(a[i])\n",
    "    print(\"*\"*10)"
   ]
  },
  {
   "cell_type": "markdown",
   "metadata": {},
   "source": [
    "As seen above the input  \n",
    "    `Rene Velazquez Velazquez Rene`  \n",
    "is recognized as a transposition, but  \n",
    "    `Rene Velazquez John Doe`  \n",
    "is not.  \n",
    " Try a few examples yourself!\n"
   ]
  },
  {
   "cell_type": "code",
   "execution_count": 23,
   "metadata": {},
   "outputs": [],
   "source": [
    "model.save('models/transpositionDetector.keras')"
   ]
  },
  {
   "cell_type": "code",
   "execution_count": 24,
   "metadata": {},
   "outputs": [],
   "source": [
    "positive = pd.read_csv(path+\"/validation_data/positive.txt\", sep=\"|\", dtype=\"str\", header=None)\n",
    "negative = pd.read_csv(path+\"/validation_data/negative.txt\", sep=\"|\", dtype=\"str\", header=None)\n",
    "validation = pd.concat([positive, negative])\n",
    "labels = np.concatenate([np.ones(10000),np.zeros(10000)])"
   ]
  },
  {
   "cell_type": "code",
   "execution_count": 25,
   "metadata": {},
   "outputs": [
    {
     "data": {
      "text/plain": [
       "(20000,)"
      ]
     },
     "execution_count": 25,
     "metadata": {},
     "output_type": "execute_result"
    }
   ],
   "source": [
    "validation_features = np.array(validation).T\n",
    "validation_features[0].shape"
   ]
  },
  {
   "cell_type": "code",
   "execution_count": 26,
   "metadata": {},
   "outputs": [],
   "source": [
    "dataset_1 = tf.data.Dataset.from_tensor_slices(validation_features[0])\n",
    "dataset_2 = tf.data.Dataset.from_tensor_slices(validation_features[1])\n",
    "dataset_3 = tf.data.Dataset.from_tensor_slices(validation_features[2])\n",
    "dataset_4 = tf.data.Dataset.from_tensor_slices(validation_features[3])\n",
    "labels = tf.data.Dataset.from_tensor_slices(labels)"
   ]
  },
  {
   "cell_type": "code",
   "execution_count": 27,
   "metadata": {},
   "outputs": [],
   "source": [
    "validation_dataset = tf.data.Dataset.zip(((dataset_1, dataset_2, dataset_3, dataset_4,), labels )).batch(32)"
   ]
  },
  {
   "cell_type": "code",
   "execution_count": 28,
   "metadata": {},
   "outputs": [
    {
     "name": "stderr",
     "output_type": "stream",
     "text": [
      "2023-10-15 12:46:01.112374: I tensorflow/core/common_runtime/executor.cc:1210] [/device:CPU:0] (DEBUG INFO) Executor start aborting (this does not indicate an error and you can ignore this message): INVALID_ARGUMENT: You must feed a value for placeholder tensor 'Placeholder/_6' with dtype string and shape [20000]\n",
      "\t [[{{node Placeholder/_6}}]]\n"
     ]
    },
    {
     "name": "stdout",
     "output_type": "stream",
     "text": [
      "625/625 [==============================] - 1s 985us/step - loss: 0.0012 - accuracy: 0.9995\n"
     ]
    },
    {
     "data": {
      "text/plain": [
       "[0.0012280646478757262, 0.9995499849319458]"
      ]
     },
     "execution_count": 28,
     "metadata": {},
     "output_type": "execute_result"
    }
   ],
   "source": [
    "model.evaluate(validation_dataset)"
   ]
  },
  {
   "cell_type": "markdown",
   "metadata": {},
   "source": [
    "Getting a very high accuracy!"
   ]
  },
  {
   "cell_type": "markdown",
   "metadata": {},
   "source": [
    "### Serve the model"
   ]
  },
  {
   "cell_type": "code",
   "execution_count": 29,
   "metadata": {},
   "outputs": [
    {
     "name": "stdout",
     "output_type": "stream",
     "text": [
      "INFO:tensorflow:Assets written to: transpositions/assets\n"
     ]
    },
    {
     "name": "stderr",
     "output_type": "stream",
     "text": [
      "INFO:tensorflow:Assets written to: transpositions/assets\n"
     ]
    },
    {
     "name": "stdout",
     "output_type": "stream",
     "text": [
      "Saved artifact at 'transpositions'. The following endpoints are available:\n",
      "\n",
      "* Endpoint 'serve'\n",
      "  Args:\n",
      "    args_0: [<1>, <2>, <3>, <4>]\n",
      "      <1>: string Tensor, shape=(None, 1)\n",
      "      <2>: string Tensor, shape=(None, 1)\n",
      "      <3>: string Tensor, shape=(None, 1)\n",
      "      <4>: string Tensor, shape=(None, 1)\n",
      "  Returns:\n",
      "    float32 Tensor, shape=(None, 1)\n"
     ]
    }
   ],
   "source": [
    "model.export(\"transpositions\")"
   ]
  },
  {
   "cell_type": "code",
   "execution_count": 39,
   "metadata": {},
   "outputs": [],
   "source": [
    "reloaded_artifact = tf.saved_model.load(\"transpositions\")"
   ]
  },
  {
   "cell_type": "code",
   "execution_count": 52,
   "metadata": {},
   "outputs": [],
   "source": [
    "predicted_output = reloaded_artifact.serve([(tf.constant([[\"Rene\"]], dtype=\"string\")),tf.constant([[\"Velazquez\"]], dtype=\"string\"),tf.constant([[\"Velazquez\"]], dtype=\"string\"),tf.constant([[\"Rene\"]], dtype=\"string\")])"
   ]
  },
  {
   "cell_type": "code",
   "execution_count": 53,
   "metadata": {},
   "outputs": [
    {
     "data": {
      "text/plain": [
       "<tf.Tensor: shape=(1, 1), dtype=float32, numpy=array([[0.9994758]], dtype=float32)>"
      ]
     },
     "execution_count": 53,
     "metadata": {},
     "output_type": "execute_result"
    }
   ],
   "source": [
    "predicted_output"
   ]
  },
  {
   "cell_type": "code",
   "execution_count": null,
   "metadata": {},
   "outputs": [],
   "source": []
  }
 ],
 "metadata": {
  "kernelspec": {
   "display_name": "Python 3 (ipykernel)",
   "language": "python",
   "name": "python3"
  },
  "language_info": {
   "codemirror_mode": {
    "name": "ipython",
    "version": 3
   },
   "file_extension": ".py",
   "mimetype": "text/x-python",
   "name": "python",
   "nbconvert_exporter": "python",
   "pygments_lexer": "ipython3",
   "version": "3.9.16"
  }
 },
 "nbformat": 4,
 "nbformat_minor": 4
}
